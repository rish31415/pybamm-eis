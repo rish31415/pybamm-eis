{
 "cells": [
  {
   "cell_type": "markdown",
   "id": "ab5c88ee",
   "metadata": {},
   "source": [
    "# Linear diffusion revisited\n",
    "\n",
    "As in the last example, we are interested in solving the problem when there is periodic forcing $j=\\hat{j}\\mathrm{e}^{i\\omega t}$. We look for a solution $c=\\hat{c}\\mathrm{e}^{i\\omega t}$ so that our problem becomes \n",
    "\n",
    "$$i \\omega \\hat{c} = D \\hat{c}_{xx}, \\quad \\left. \\hat{c}_x \\right|_{x=0} = 0, \\quad \\left. -D\\hat{c}_x \\right|_{x=1}=\\hat{j}.$$\n",
    "\n",
    "However, we will now add an explicit algebraic equation for the surface flux so that we solve\n",
    "\n",
    "$$i \\omega \\hat{c} = D \\hat{c}_{xx}, \\quad \\left. \\hat{c}_x \\right|_{x=0} = 0, \\quad \\left. -D\\hat{c}_x \\right|_{x=1}=\\hat{j}_{var}, \\qquad \\hat{j}_{var} = \\hat{j}.$$\n",
    "\n",
    "\n",
    "$$ \n",
    "J = \\frac{D}{(\\Delta x)^2} \n",
    "\\begin{bmatrix}\n",
    "-1 &  1 &  0     &        &        &    &               \\\\\n",
    " 1 & -2 &  1     &        &        &    &               \\\\\n",
    "   &  1 & -2     & 1      &        &    &               \\\\\n",
    "   &    & \\ddots & \\ddots & \\ddots &    &               \\\\\n",
    "   &    &        & 1      & -2     &  1 &  0             \\\\\n",
    "   &    &        & 0      & 1      & -1 & -\\frac{\\Delta x}{D} \\\\\n",
    "   &    &        & 0      & 0      &  0 & \\frac{D}{(\\Delta x)^2} \\\\\n",
    "\\end{bmatrix}\n",
    "$$\n",
    "and\n",
    "$$\n",
    "\\boldsymbol{b} = \\begin{bmatrix}\n",
    "0 \\\\\n",
    "\\vdots \\\\\n",
    "0 \\\\\n",
    "-1\n",
    "\\end{bmatrix}\n",
    "$$\n",
    "\n",
    "Here we will show how to extract these matrices from the model"
   ]
  },
  {
   "cell_type": "markdown",
   "id": "9a056051",
   "metadata": {},
   "source": [
    "## Building the model\n",
    "As before, we start by importing PyBaMM, along with any other packages we require."
   ]
  },
  {
   "cell_type": "code",
   "execution_count": 1,
   "id": "845867c9",
   "metadata": {},
   "outputs": [],
   "source": [
    "import pybamm\n",
    "import numpy as np\n",
    "import matplotlib.pyplot as plt"
   ]
  },
  {
   "cell_type": "markdown",
   "id": "ff5979f8",
   "metadata": {},
   "source": [
    "We then load up an instance of the `pybamm.BaseModel` class."
   ]
  },
  {
   "cell_type": "code",
   "execution_count": 2,
   "id": "c3e95c0b",
   "metadata": {},
   "outputs": [],
   "source": [
    "model = pybamm.BaseModel()"
   ]
  },
  {
   "cell_type": "markdown",
   "id": "9e9ceda1",
   "metadata": {},
   "source": [
    "We now define the model variables and parameters. We also define the spatial variable $x$ here. Since we are solving in 1D we have decided to call the domain \"rod\", but we could name it anything we like. Note that in PyBaMM variables and parameters can be given useful and meaningful names, such as \"Concentration\", so that they can be easily referred to later. Values for the parameters will be provided later."
   ]
  },
  {
   "cell_type": "code",
   "execution_count": 3,
   "id": "b38fc009",
   "metadata": {},
   "outputs": [],
   "source": [
    "x = pybamm.SpatialVariable(\"x\", domain=\"rod\", coord_sys=\"cartesian\")\n",
    "c_hat = pybamm.Variable(\"Concentration (FT)\", domain=\"rod\")\n",
    "D = pybamm.Parameter(\"Diffusivity\")\n",
    "c0 = pybamm.Parameter(\"Initial concentration\")"
   ]
  },
  {
   "cell_type": "markdown",
   "id": "5aa02260",
   "metadata": {},
   "source": [
    "Now the time dependence of $j$ is fixed, so $\\hat{j}$ is just a parameter, but we add a variable $\\hat{j}_{var}$"
   ]
  },
  {
   "cell_type": "code",
   "execution_count": 4,
   "id": "1d5baff2",
   "metadata": {},
   "outputs": [],
   "source": [
    "j_hat = pybamm.Parameter(\"Applied flux (FT)\")\n",
    "j_hat_var = pybamm.Variable(\"Applied flux variable\")"
   ]
  },
  {
   "cell_type": "markdown",
   "id": "bf946bc2",
   "metadata": {},
   "source": [
    "Now that we have defined the variables, we can write down the model equations and add them to the `model.rhs` dictionary. This dictionary stores the right hand sides of any time-dependent differential equations (ordinary or partial). The key is the variable inside the time derivative (in this case $c$)."
   ]
  },
  {
   "cell_type": "code",
   "execution_count": 5,
   "id": "67a0b4d4",
   "metadata": {},
   "outputs": [],
   "source": [
    "N = - D * pybamm.grad(c_hat)  # The flux \n",
    "dcdt = - pybamm.div(N)  # The right hand side of the PDE\n",
    "model.rhs = {c_hat: dcdt}  # Add to model"
   ]
  },
  {
   "cell_type": "markdown",
   "id": "0bfc2601",
   "metadata": {},
   "source": [
    "We then add the algebraic equation to the `model.algebraic` dictionary"
   ]
  },
  {
   "cell_type": "code",
   "execution_count": 6,
   "id": "1dd40d31",
   "metadata": {},
   "outputs": [],
   "source": [
    "model.algebraic = {j_hat_var: j_hat_var - j_hat}"
   ]
  },
  {
   "cell_type": "markdown",
   "id": "aaa9a552",
   "metadata": {},
   "source": [
    "We now add the boundary conditions into the `model.boundary_conditions` dictionary. The keys of the dictionary indicate which end of the boundary the condition is applied to (in 1D this can be \"left\" or \"right\"), the entry is then give as a tuple of the value and type."
   ]
  },
  {
   "cell_type": "code",
   "execution_count": 7,
   "id": "6b56864a",
   "metadata": {},
   "outputs": [],
   "source": [
    "model.boundary_conditions = {\n",
    "    c_hat: {\n",
    "        \"left\": (pybamm.Scalar(0), \"Neumann\"),\n",
    "        \"right\": (-j_hat_var / D, \"Neumann\"),\n",
    "    }\n",
    "}"
   ]
  },
  {
   "cell_type": "markdown",
   "id": "a153365b",
   "metadata": {},
   "source": [
    "We also need to add the initial conditions to the `model.initial_conditions` dictionary (we don't need this now, but PyBaMM will throw an error if we don't provide an initial condition)."
   ]
  },
  {
   "cell_type": "code",
   "execution_count": 8,
   "id": "27d3317b",
   "metadata": {},
   "outputs": [],
   "source": [
    "model.initial_conditions = {c_hat: c0, j_hat_var: j_hat}"
   ]
  },
  {
   "cell_type": "markdown",
   "id": "a7349c42",
   "metadata": {},
   "source": [
    "Finally, we add any output variables to the `model.variables` dictionary. These variables can be easily accessed after the model has been solved. You can add any variables of interest to this dictionary."
   ]
  },
  {
   "cell_type": "code",
   "execution_count": 9,
   "id": "7b4d8fc8",
   "metadata": {},
   "outputs": [],
   "source": [
    "model.variables = {\n",
    "    \"Concentration (FT)\": c_hat, \n",
    "    \"Applied flux (FT)\": j_hat,\n",
    "    \"Applied flux variable\": j_hat_var,\n",
    "}"
   ]
  },
  {
   "cell_type": "markdown",
   "id": "2a9d5e1a",
   "metadata": {},
   "source": [
    "## Using the model\n",
    "Now that the model has been constructed we can go ahead and define our geometry and parameter values. We start by defining the geometry for our \"rod\" domain. We need to define the spatial direction(s) in which spatial operators act (such as gradients). In this case it is simply $x$. We then set the minimum and maximum values $x$ can take. In this example we are solving the problem on the domain $0<x<1$."
   ]
  },
  {
   "cell_type": "code",
   "execution_count": 10,
   "id": "e1050a79",
   "metadata": {},
   "outputs": [],
   "source": [
    "geometry = {\"rod\": {x: {\"min\": pybamm.Scalar(0), \"max\": pybamm.Scalar(1)}}}"
   ]
  },
  {
   "cell_type": "markdown",
   "id": "40ac61c2",
   "metadata": {},
   "source": [
    "We also need to provide the values of any parameters using the `pybamm.ParameterValues` class. This class accepts a dictionary of parameter names and values. Note that the name we provide is the string name of the parameters and not its symbol.\n",
    "\n",
    "We will set the problem up with all parameters set to 1 since it is easy to see how we need to modify the matrix $J$ and vector $b$ when the parameters change"
   ]
  },
  {
   "cell_type": "code",
   "execution_count": 11,
   "id": "3a1ffd86",
   "metadata": {},
   "outputs": [],
   "source": [
    "# Define parameter values object\n",
    "param = pybamm.ParameterValues(\n",
    "    {\n",
    "        \"Applied flux (FT)\": 1,\n",
    "        \"Diffusivity\": 1,\n",
    "        \"Initial concentration\": 1,\n",
    "    },\n",
    ")"
   ]
  },
  {
   "cell_type": "markdown",
   "id": "65dad7e6",
   "metadata": {},
   "source": [
    "Now that we have defined the geometry and provided the parameters values, we can process the model."
   ]
  },
  {
   "cell_type": "code",
   "execution_count": 12,
   "id": "c65f652c",
   "metadata": {},
   "outputs": [],
   "source": [
    "param.process_model(model)\n",
    "param.process_geometry(geometry)"
   ]
  },
  {
   "cell_type": "markdown",
   "id": "5dc67c3e",
   "metadata": {},
   "source": [
    "Before we disctretise the spatial operators, we must choose and mesh and a spatial method. Here we choose to use a uniformly spaced 1D mesh with 30 points, and discretise the equations in space using the finite volume method. The information about the mesh is stored in a `pybamm.Mesh` object, wheres the spatial methods are stored in a dictionary which maps domain names to a spatial method. This allows the user to discretise different (sub)domains in a problem using different spatial methods. All of this information goes into a `pybamm.Discretisation` object, which accepts a mesh and a dictionary of spatial methods."
   ]
  },
  {
   "cell_type": "code",
   "execution_count": 13,
   "id": "022efbeb",
   "metadata": {},
   "outputs": [],
   "source": [
    "submesh_types = {\"rod\": pybamm.Uniform1DSubMesh}\n",
    "var_pts = {x: 8}\n",
    "mesh = pybamm.Mesh(geometry, submesh_types, var_pts)\n",
    "spatial_methods = {\"rod\": pybamm.FiniteVolume()}\n",
    "disc = pybamm.Discretisation(mesh, spatial_methods)"
   ]
  },
  {
   "cell_type": "markdown",
   "id": "427a86d0",
   "metadata": {},
   "source": [
    "The model is then processed using the discretisation, turning the spaital operators into matrix-vector multiplications."
   ]
  },
  {
   "cell_type": "code",
   "execution_count": 14,
   "id": "f61aa7b7",
   "metadata": {},
   "outputs": [
    {
     "data": {
      "text/plain": [
       "<pybamm.models.base_model.BaseModel at 0x7fee8424a520>"
      ]
     },
     "execution_count": 14,
     "metadata": {},
     "output_type": "execute_result"
    }
   ],
   "source": [
    "disc.process_model(model)"
   ]
  },
  {
   "cell_type": "markdown",
   "id": "7f2e6946",
   "metadata": {},
   "source": [
    "Now we are ready to extract the matrix-vector problem."
   ]
  },
  {
   "cell_type": "markdown",
   "id": "245f4a0f",
   "metadata": {},
   "source": [
    "## Extracting the matrix-vector problem\n",
    "\n",
    "The matrix J is just the jacobian. In PyBaMM the Jacobian is a function since it may depend on state and time in general. The Jacobian is calculated in the solver set up stage, which we can execute as follows"
   ]
  },
  {
   "cell_type": "code",
   "execution_count": 15,
   "id": "41e67d77",
   "metadata": {},
   "outputs": [],
   "source": [
    "solver = pybamm.CasadiSolver()\n",
    "solver.set_up(model)"
   ]
  },
  {
   "cell_type": "markdown",
   "id": "84eea21a",
   "metadata": {},
   "source": [
    "Next we will evaluate using the initial state and time."
   ]
  },
  {
   "cell_type": "code",
   "execution_count": 16,
   "id": "db09fc84",
   "metadata": {},
   "outputs": [],
   "source": [
    "y0 = model.concatenated_initial_conditions.entries  # vector of initial conditions\n",
    "J = model.jac_rhs_algebraic_eval(0, y0, []).sparse()  #  call the Jacobian and return a (sparse) matrix"
   ]
  },
  {
   "cell_type": "code",
   "execution_count": 17,
   "id": "5b9e472c",
   "metadata": {},
   "outputs": [
    {
     "data": {
      "text/plain": [
       "(9, 1)"
      ]
     },
     "execution_count": 17,
     "metadata": {},
     "output_type": "execute_result"
    }
   ],
   "source": [
    "y0.shape"
   ]
  },
  {
   "cell_type": "markdown",
   "id": "e927573d",
   "metadata": {},
   "source": [
    "For this problem, we can get the vector $b$ by evaluating the simply finding the index of the Applied flux variable. In our example we have set it up so that it is the final entry, but in general we can find the slice of the statevector corresponding to a particular variable by doing"
   ]
  },
  {
   "cell_type": "code",
   "execution_count": 18,
   "id": "6a9c7b09",
   "metadata": {},
   "outputs": [
    {
     "data": {
      "text/plain": [
       "array([8])"
      ]
     },
     "execution_count": 18,
     "metadata": {},
     "output_type": "execute_result"
    }
   ],
   "source": [
    "variable = model.variables[\"Applied flux variable\"]\n",
    "variable_y_indices = np.arange(variable.first_point, variable.last_point)\n",
    "variable_y_indices"
   ]
  },
  {
   "cell_type": "markdown",
   "id": "5942dd14",
   "metadata": {},
   "source": [
    "Then we construct a (sparse) vector of zeros with an entry -1 in the correct position"
   ]
  },
  {
   "cell_type": "code",
   "execution_count": 19,
   "id": "40bc759a",
   "metadata": {},
   "outputs": [],
   "source": [
    "from scipy.sparse import csc_matrix\n",
    "\n",
    "row = variable_y_indices\n",
    "col = np.array([0])\n",
    "data = np.array([-1])\n",
    "b = csc_matrix((data, (row, col)), shape=y0.shape)"
   ]
  },
  {
   "cell_type": "markdown",
   "id": "efd0dcf5",
   "metadata": {},
   "source": [
    "We can look at $J$ and $\\boldsymbol{b}$ and see we get the expected result"
   ]
  },
  {
   "cell_type": "code",
   "execution_count": 20,
   "id": "fb8fcd43",
   "metadata": {},
   "outputs": [
    {
     "data": {
      "text/plain": [
       "matrix([[ -64.,   64.,    0.,    0.,    0.,    0.,    0.,    0.,    0.],\n",
       "        [  64., -128.,   64.,    0.,    0.,    0.,    0.,    0.,    0.],\n",
       "        [   0.,   64., -128.,   64.,    0.,    0.,    0.,    0.,    0.],\n",
       "        [   0.,    0.,   64., -128.,   64.,    0.,    0.,    0.,    0.],\n",
       "        [   0.,    0.,    0.,   64., -128.,   64.,    0.,    0.,    0.],\n",
       "        [   0.,    0.,    0.,    0.,   64., -128.,   64.,    0.,    0.],\n",
       "        [   0.,    0.,    0.,    0.,    0.,   64., -128.,   64.,    0.],\n",
       "        [   0.,    0.,    0.,    0.,    0.,    0.,   64.,  -64.,   -8.],\n",
       "        [   0.,    0.,    0.,    0.,    0.,    0.,    0.,    0.,    1.]])"
      ]
     },
     "execution_count": 20,
     "metadata": {},
     "output_type": "execute_result"
    }
   ],
   "source": [
    "J.todense()"
   ]
  },
  {
   "cell_type": "code",
   "execution_count": 21,
   "id": "58bb3506",
   "metadata": {},
   "outputs": [
    {
     "data": {
      "text/plain": [
       "matrix([[ 0],\n",
       "        [ 0],\n",
       "        [ 0],\n",
       "        [ 0],\n",
       "        [ 0],\n",
       "        [ 0],\n",
       "        [ 0],\n",
       "        [ 0],\n",
       "        [-1]])"
      ]
     },
     "execution_count": 21,
     "metadata": {},
     "output_type": "execute_result"
    }
   ],
   "source": [
    "b.todense()"
   ]
  },
  {
   "cell_type": "markdown",
   "id": "88633a98",
   "metadata": {},
   "source": [
    "We can also get the mass matrix as follows"
   ]
  },
  {
   "cell_type": "code",
   "execution_count": 22,
   "id": "ce6ce26a",
   "metadata": {},
   "outputs": [
    {
     "data": {
      "text/plain": [
       "matrix([[1., 0., 0., 0., 0., 0., 0., 0., 0.],\n",
       "        [0., 1., 0., 0., 0., 0., 0., 0., 0.],\n",
       "        [0., 0., 1., 0., 0., 0., 0., 0., 0.],\n",
       "        [0., 0., 0., 1., 0., 0., 0., 0., 0.],\n",
       "        [0., 0., 0., 0., 1., 0., 0., 0., 0.],\n",
       "        [0., 0., 0., 0., 0., 1., 0., 0., 0.],\n",
       "        [0., 0., 0., 0., 0., 0., 1., 0., 0.],\n",
       "        [0., 0., 0., 0., 0., 0., 0., 1., 0.],\n",
       "        [0., 0., 0., 0., 0., 0., 0., 0., 0.]])"
      ]
     },
     "execution_count": 22,
     "metadata": {},
     "output_type": "execute_result"
    }
   ],
   "source": [
    "M = model.mass_matrix.entries\n",
    "M.todense()"
   ]
  },
  {
   "cell_type": "markdown",
   "id": "43f8ad0e",
   "metadata": {},
   "source": [
    "and construct the following problem \n",
    "\n",
    "$$ A \\boldsymbol{\\hat{c}} = \\boldsymbol{b},$$\n",
    "\n",
    "with $A = i \\omega M - J$. "
   ]
  },
  {
   "cell_type": "code",
   "execution_count": 23,
   "id": "e62b44e9",
   "metadata": {},
   "outputs": [],
   "source": [
    "omega = 1\n",
    "A = 1j * omega * M - J"
   ]
  },
  {
   "cell_type": "code",
   "execution_count": 24,
   "id": "bc0a627c",
   "metadata": {},
   "outputs": [
    {
     "data": {
      "text/plain": [
       "matrix([[ 64.+1.j, -64.+0.j,   0.+0.j,   0.+0.j,   0.+0.j,   0.+0.j,\n",
       "           0.+0.j,   0.+0.j,   0.+0.j],\n",
       "        [-64.+0.j, 128.+1.j, -64.+0.j,   0.+0.j,   0.+0.j,   0.+0.j,\n",
       "           0.+0.j,   0.+0.j,   0.+0.j],\n",
       "        [  0.+0.j, -64.+0.j, 128.+1.j, -64.+0.j,   0.+0.j,   0.+0.j,\n",
       "           0.+0.j,   0.+0.j,   0.+0.j],\n",
       "        [  0.+0.j,   0.+0.j, -64.+0.j, 128.+1.j, -64.+0.j,   0.+0.j,\n",
       "           0.+0.j,   0.+0.j,   0.+0.j],\n",
       "        [  0.+0.j,   0.+0.j,   0.+0.j, -64.+0.j, 128.+1.j, -64.+0.j,\n",
       "           0.+0.j,   0.+0.j,   0.+0.j],\n",
       "        [  0.+0.j,   0.+0.j,   0.+0.j,   0.+0.j, -64.+0.j, 128.+1.j,\n",
       "         -64.+0.j,   0.+0.j,   0.+0.j],\n",
       "        [  0.+0.j,   0.+0.j,   0.+0.j,   0.+0.j,   0.+0.j, -64.+0.j,\n",
       "         128.+1.j, -64.+0.j,   0.+0.j],\n",
       "        [  0.+0.j,   0.+0.j,   0.+0.j,   0.+0.j,   0.+0.j,   0.+0.j,\n",
       "         -64.+0.j,  64.+1.j,   8.+0.j],\n",
       "        [  0.+0.j,   0.+0.j,   0.+0.j,   0.+0.j,   0.+0.j,   0.+0.j,\n",
       "           0.+0.j,   0.+0.j,  -1.+0.j]])"
      ]
     },
     "execution_count": 24,
     "metadata": {},
     "output_type": "execute_result"
    }
   ],
   "source": [
    "A.todense()"
   ]
  },
  {
   "cell_type": "code",
   "execution_count": null,
   "id": "0cd7232a",
   "metadata": {},
   "outputs": [],
   "source": []
  }
 ],
 "metadata": {
  "kernelspec": {
   "display_name": "Python 3",
   "language": "python",
   "name": "python3"
  },
  "language_info": {
   "codemirror_mode": {
    "name": "ipython",
    "version": 3
   },
   "file_extension": ".py",
   "mimetype": "text/x-python",
   "name": "python",
   "nbconvert_exporter": "python",
   "pygments_lexer": "ipython3",
   "version": "3.8.13"
  }
 },
 "nbformat": 4,
 "nbformat_minor": 5
}
