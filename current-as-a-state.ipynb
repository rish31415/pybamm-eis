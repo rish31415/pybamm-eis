{
 "cells": [
  {
   "cell_type": "code",
   "execution_count": 4,
   "id": "19f00256",
   "metadata": {},
   "outputs": [],
   "source": [
    "import pybamm"
   ]
  },
  {
   "cell_type": "code",
   "execution_count": 5,
   "id": "3cb69c26",
   "metadata": {},
   "outputs": [],
   "source": [
    "model = pybamm.lithium_ion.SPM()"
   ]
  },
  {
   "cell_type": "code",
   "execution_count": 6,
   "id": "4523329d",
   "metadata": {},
   "outputs": [],
   "source": [
    "# Create a new model where the current density is now a variable\n",
    "# To do so, we replace all instances of the current density in the\n",
    "# model with a current density variable, which is obtained from the\n",
    "# FunctionControl submodel\n",
    "new_model = model.new_copy()\n",
    "# create the FunctionControl submodel and extract variables\n",
    "external_circuit_variables = (\n",
    "    pybamm.external_circuit.FunctionControl(\n",
    "        model.param, None, model.options, control=\"algebraic\"\n",
    "    ).get_fundamental_variables()\n",
    ")\n",
    "\n",
    "# Perform the replacement\n",
    "symbol_replacement_map = {\n",
    "    model.variables[name]: variable\n",
    "    for name, variable in external_circuit_variables.items()\n",
    "}\n",
    "# Don't replace initial conditions, as these should not contain\n",
    "# Variable objects\n",
    "replacer = pybamm.SymbolReplacer(\n",
    "    symbol_replacement_map, process_initial_conditions=False\n",
    ")\n",
    "new_model = replacer.process_model(model, inplace=False)\n",
    "\n",
    "# Update the algebraic equation and initial conditions for\n",
    "# FunctionControl\n",
    "# This creates a differential or algebraic equation for the current,\n",
    "# together with the appropriate guess for the initial condition.\n",
    "# External circuit submodels are always equations on the current\n",
    "i_cell = new_model.variables[\"Current density variable\"]\n",
    "I = new_model.variables[\"Current [A]\"]\n",
    "I_applied = pybamm.FunctionParameter(\n",
    "    \"Current function [A]\", {\"Time [s]\": pybamm.t * new_model.param.timescale}\n",
    ")\n",
    "new_model.algebraic[i_cell] = I - I_applied\n",
    "new_model.initial_conditions[\n",
    "    i_cell\n",
    "] = new_model.param.current_with_time"
   ]
  },
  {
   "cell_type": "code",
   "execution_count": 7,
   "id": "59ee5682",
   "metadata": {},
   "outputs": [],
   "source": [
    "models = [model, new_model]"
   ]
  },
  {
   "cell_type": "code",
   "execution_count": 8,
   "id": "d09b0a3a",
   "metadata": {},
   "outputs": [],
   "source": [
    "sols = []\n",
    "for model in models:\n",
    "    sim = pybamm.Simulation(model)\n",
    "    sol = sim.solve([0, 3600])\n",
    "    sols.append(sol)"
   ]
  },
  {
   "cell_type": "code",
   "execution_count": 9,
   "id": "6af1c8f2",
   "metadata": {},
   "outputs": [
    {
     "data": {
      "application/vnd.jupyter.widget-view+json": {
       "model_id": "561a8926d7394b588f0da43cd2ae9127",
       "version_major": 2,
       "version_minor": 0
      },
      "text/plain": [
       "interactive(children=(FloatSlider(value=0.0, description='t', max=1.0, step=0.01), Output()), _dom_classes=('w…"
      ]
     },
     "metadata": {},
     "output_type": "display_data"
    },
    {
     "data": {
      "text/plain": [
       "<pybamm.plotting.quick_plot.QuickPlot at 0x7f30ec718040>"
      ]
     },
     "execution_count": 9,
     "metadata": {},
     "output_type": "execute_result"
    }
   ],
   "source": [
    "pybamm.dynamic_plot(sols)"
   ]
  },
  {
   "cell_type": "code",
   "execution_count": 10,
   "id": "d15924a6",
   "metadata": {},
   "outputs": [
    {
     "name": "stdout",
     "output_type": "stream",
     "text": [
      "(41, 100)\n",
      "(42, 100)\n"
     ]
    }
   ],
   "source": [
    "for sol in sols:\n",
    "    print(sol.y.shape)"
   ]
  },
  {
   "cell_type": "code",
   "execution_count": 11,
   "id": "d5f21087",
   "metadata": {},
   "outputs": [
    {
     "data": {
      "application/vnd.jupyter.widget-view+json": {
       "model_id": "74308a51b47140b190eccd88973a6c36",
       "version_major": 2,
       "version_minor": 0
      },
      "text/plain": [
       "interactive(children=(FloatSlider(value=0.0, description='t', max=1.0, step=0.01), Output()), _dom_classes=('w…"
      ]
     },
     "metadata": {},
     "output_type": "display_data"
    },
    {
     "data": {
      "text/plain": [
       "<pybamm.plotting.quick_plot.QuickPlot at 0x7f30e5433d90>"
      ]
     },
     "execution_count": 11,
     "metadata": {},
     "output_type": "execute_result"
    }
   ],
   "source": [
    "pybamm.dynamic_plot(sols[-1], [[\"Current [A]\", \"Current density variable\"]])"
   ]
  },
  {
   "cell_type": "code",
   "execution_count": null,
   "id": "27ca7e4a",
   "metadata": {},
   "outputs": [],
   "source": []
  }
 ],
 "metadata": {
  "kernelspec": {
   "display_name": "Python 3.8.13 ('env': venv)",
   "language": "python",
   "name": "python3"
  },
  "language_info": {
   "codemirror_mode": {
    "name": "ipython",
    "version": 3
   },
   "file_extension": ".py",
   "mimetype": "text/x-python",
   "name": "python",
   "nbconvert_exporter": "python",
   "pygments_lexer": "ipython3",
   "version": "3.8.13"
  },
  "vscode": {
   "interpreter": {
    "hash": "0aa172841ce802c681a9f425881ff14d7431515039636bfa8960bedf2db368d0"
   }
  }
 },
 "nbformat": 4,
 "nbformat_minor": 5
}
