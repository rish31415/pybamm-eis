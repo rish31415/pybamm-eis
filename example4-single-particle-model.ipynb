{
 "cells": [
  {
   "cell_type": "markdown",
   "id": "bd9af729",
   "metadata": {},
   "source": [
    "# Single Particle Model\n",
    "\n",
    "In this example we show how to formulate any PyBaMM battery model so that the voltage and current are states. As an example we use the Single Particle Model. At the moment this assumes the original model is set up for current control (as is the default in PyBaMM)."
   ]
  },
  {
   "cell_type": "code",
   "execution_count": 1,
   "id": "19f00256",
   "metadata": {},
   "outputs": [],
   "source": [
    "import pybamm\n",
    "import numpy as np\n",
    "import matplotlib.pyplot as plt"
   ]
  },
  {
   "cell_type": "markdown",
   "id": "48ee69de",
   "metadata": {},
   "source": [
    "First we load an instance of the SPM"
   ]
  },
  {
   "cell_type": "code",
   "execution_count": 2,
   "id": "49ef6b9f",
   "metadata": {},
   "outputs": [],
   "source": [
    "model = pybamm.lithium_ion.SPM()"
   ]
  },
  {
   "cell_type": "markdown",
   "id": "e03c385c",
   "metadata": {},
   "source": [
    "Next we modify the model to ensure that both the current and terminal voltage appear as states. \n",
    "\n",
    "We first add a new \"Terminal voltage variable\" and an algebraic equation that sets the \"Terminal voltage variable\" to be equal to the model voltage. For the SPM the voltage is given by an expression involving the concentrations and current, but for other models, such as DFN, the (non-dimensional) voltage is a state of the model. The following approach ensures the _dimensional_ voltage is always a state in the model.   \n",
    "\n",
    "Then we make current density a variable and replace all instances of the current density in the model with a current density variable. We then add an equation that prescribes the current.\n",
    "\n",
    "All of this is handled by the function `set_up_model_for_eis` which returns the new model."
   ]
  },
  {
   "cell_type": "code",
   "execution_count": 3,
   "id": "4523329d",
   "metadata": {},
   "outputs": [],
   "source": [
    "def set_up_model_for_eis(model, inplace=True):\n",
    "    \"\"\"\n",
    "    Set up model so that current and voltage are states. \n",
    "    This formulation is suitable for EIS calculations in \n",
    "    the frequency domain. \n",
    "    \n",
    "    Parameters\n",
    "    ----------\n",
    "    model : :class:`pybamm.BaseModel`\n",
    "        Model to set up for EIS.\n",
    "    inplace: bool, optional\n",
    "        If True, modify the model in place. Otherwise, return a\n",
    "        new model. Default is True.\n",
    "    \"\"\" \n",
    "    pybamm.logger.info(\n",
    "        \"Start setting up {} for EIS\".format(model.name)\n",
    "    )    \n",
    "    \n",
    "    # Set up inplace vs not inplace\n",
    "    if inplace:\n",
    "        # any changes to model attributes will change new_model attributes\n",
    "        # since they point to the same object\n",
    "        new_model = model\n",
    "    else:\n",
    "        # create a copy of the model\n",
    "        new_model = model.new_copy()\n",
    "\n",
    "    # Create a voltage variable\n",
    "    V_cell = pybamm.Variable(\"Terminal voltage variable\")\n",
    "    new_model.variables[\"Terminal voltage variable\"] = V_cell\n",
    "    V = new_model.variables[\"Terminal voltage [V]\"]\n",
    "\n",
    "    # Add an algebraic equation for the voltage variable\n",
    "    new_model.algebraic[V_cell] = V_cell - V\n",
    "    new_model.initial_conditions[\n",
    "        V_cell\n",
    "    ] = new_model.param.p.U_ref - new_model.param.n.U_ref\n",
    "\n",
    "    # Now make current density a variable\n",
    "    # To do so, we replace all instances of the current density in the\n",
    "    # model with a current density variable, which is obtained from the\n",
    "    # FunctionControl submodel\n",
    "\n",
    "    # Create the FunctionControl submodel and extract variables\n",
    "    external_circuit_variables = (\n",
    "        pybamm.external_circuit.FunctionControl(\n",
    "            model.param, None, model.options, control=\"algebraic\"\n",
    "        ).get_fundamental_variables()\n",
    "    )\n",
    "\n",
    "    # Perform the replacement\n",
    "    symbol_replacement_map = {\n",
    "        new_model.variables[name]: variable\n",
    "        for name, variable in external_circuit_variables.items()\n",
    "    }\n",
    "    # Don't replace initial conditions, as these should not contain\n",
    "    # Variable objects\n",
    "    replacer = pybamm.SymbolReplacer(\n",
    "        symbol_replacement_map, process_initial_conditions=False\n",
    "    )\n",
    "    replacer.process_model(new_model, inplace=True)\n",
    "\n",
    "    # Update the algebraic equation and initial conditions for\n",
    "    # FunctionControl\n",
    "    # This creates an algebraic equation for the current,\n",
    "    # together with the appropriate guess for the initial condition.\n",
    "    # External circuit submodels are always equations on the current\n",
    "    i_cell = new_model.variables[\"Current density variable\"]\n",
    "    I = new_model.variables[\"Current [A]\"]\n",
    "    I_applied = pybamm.FunctionParameter(\n",
    "        \"Current function [A]\", {\"Time [s]\": pybamm.t * new_model.param.timescale}\n",
    "    )\n",
    "    new_model.algebraic[i_cell] = I - I_applied\n",
    "    new_model.initial_conditions[\n",
    "        i_cell\n",
    "    ] = new_model.param.current_with_time\n",
    "    \n",
    "    pybamm.logger.info(\n",
    "        \"Finish setting up {} for EIS\".format(model.name)\n",
    "    )    \n",
    "    \n",
    "    return new_model"
   ]
  },
  {
   "cell_type": "markdown",
   "id": "88a55ef1",
   "metadata": {},
   "source": [
    "Let's call the function with `inplace=False` so that we can compare the new model with the original model."
   ]
  },
  {
   "cell_type": "code",
   "execution_count": 4,
   "id": "52be2aca",
   "metadata": {},
   "outputs": [],
   "source": [
    "new_model = set_up_model_for_eis(model, inplace=False)"
   ]
  },
  {
   "cell_type": "markdown",
   "id": "eb818926",
   "metadata": {},
   "source": [
    "Next we create a list of models, loop over them and create and solve simulations in the time domain."
   ]
  },
  {
   "cell_type": "code",
   "execution_count": 5,
   "id": "59ee5682",
   "metadata": {},
   "outputs": [],
   "source": [
    "models = [model, new_model]"
   ]
  },
  {
   "cell_type": "code",
   "execution_count": 6,
   "id": "d09b0a3a",
   "metadata": {},
   "outputs": [],
   "source": [
    "sols = []\n",
    "\n",
    "parameter_values = pybamm.ParameterValues(\"Chen2020\")\n",
    "parameter_values[\"Current function [A]\"] = 2.5\n",
    "\n",
    "var_pts = {\n",
    "            \"x_n\": 5,\n",
    "            \"x_s\": 5,\n",
    "            \"x_p\": 5,\n",
    "            \"r_n\": 5,\n",
    "            \"r_p\": 5,\n",
    "}\n",
    "\n",
    "for model in models:\n",
    "    sim = pybamm.Simulation(model, parameter_values=parameter_values, var_pts=var_pts)\n",
    "    sol = sim.solve([0, 3600])\n",
    "    sols.append(sol)"
   ]
  },
  {
   "cell_type": "markdown",
   "id": "b30b576c",
   "metadata": {},
   "source": [
    "Then we can compare the results"
   ]
  },
  {
   "cell_type": "code",
   "execution_count": 7,
   "id": "6af1c8f2",
   "metadata": {},
   "outputs": [
    {
     "data": {
      "application/vnd.jupyter.widget-view+json": {
       "model_id": "2b7d0249b43d42a8942eb6702de2323c",
       "version_major": 2,
       "version_minor": 0
      },
      "text/plain": [
       "interactive(children=(FloatSlider(value=0.0, description='t', max=1.0, step=0.01), Output()), _dom_classes=('w…"
      ]
     },
     "metadata": {},
     "output_type": "display_data"
    },
    {
     "data": {
      "text/plain": [
       "<pybamm.plotting.quick_plot.QuickPlot at 0x7f29f3f034f0>"
      ]
     },
     "execution_count": 7,
     "metadata": {},
     "output_type": "execute_result"
    }
   ],
   "source": [
    "pybamm.dynamic_plot(sols)"
   ]
  },
  {
   "cell_type": "markdown",
   "id": "77c6e565",
   "metadata": {},
   "source": [
    "We can see that the state vectors are different sizes, since the new model has states for the \"Current density variable\" and \"Terminal voltage variable\""
   ]
  },
  {
   "cell_type": "code",
   "execution_count": 8,
   "id": "d15924a6",
   "metadata": {
    "scrolled": true
   },
   "outputs": [
    {
     "name": "stdout",
     "output_type": "stream",
     "text": [
      "(11, 100)\n",
      "(13, 100)\n"
     ]
    }
   ],
   "source": [
    "for sol in sols:\n",
    "    print(sol.y.shape)"
   ]
  },
  {
   "cell_type": "markdown",
   "id": "62a23d2c",
   "metadata": {},
   "source": [
    "We can find the position of the new variables in the state vector as follows"
   ]
  },
  {
   "cell_type": "code",
   "execution_count": 9,
   "id": "3e8bdf44",
   "metadata": {},
   "outputs": [],
   "source": [
    "model = sols[1].all_models[0]  # get the discretised model from the second simulation\n",
    "inds = {\"Current density variable\": None, \"Terminal voltage variable\": None}\n",
    "for key in inds.keys():\n",
    "    variable = model.variables[key]\n",
    "    variable_y_indices = np.arange(variable.first_point, variable.last_point)\n",
    "    inds[key] = variable_y_indices"
   ]
  },
  {
   "cell_type": "markdown",
   "id": "11608917",
   "metadata": {},
   "source": [
    "We see that the current density variable is in the final position and the terminal voltage variable in the entry before"
   ]
  },
  {
   "cell_type": "code",
   "execution_count": 10,
   "id": "b11cdbbe",
   "metadata": {},
   "outputs": [
    {
     "data": {
      "text/plain": [
       "{'Current density variable': array([12]),\n",
       " 'Terminal voltage variable': array([11])}"
      ]
     },
     "execution_count": 10,
     "metadata": {},
     "output_type": "execute_result"
    }
   ],
   "source": [
    "inds"
   ]
  },
  {
   "cell_type": "markdown",
   "id": "6122118b",
   "metadata": {},
   "source": [
    "Note that to obtain the _dimensional_ current in Amps from the current density variable we must multiply by the parameter `I_typ` (this is due to how the equation has been non-dimensionalised in PyBaMM), e.g. to get the current as function of time we can do "
   ]
  },
  {
   "cell_type": "code",
   "execution_count": 11,
   "id": "1b026e97",
   "metadata": {},
   "outputs": [
    {
     "data": {
      "text/plain": [
       "DM([[2.5, 2.5, 2.5, 2.5, 2.5, 2.5, 2.5, 2.5, 2.5, 2.5, 2.5, 2.5, 2.5, 2.5, 2.5, 2.5, 2.5, 2.5, 2.5, 2.5, 2.5, 2.5, 2.5, 2.5, 2.5, 2.5, 2.5, 2.5, 2.5, 2.5, 2.5, 2.5, 2.5, 2.5, 2.5, 2.5, 2.5, 2.5, 2.5, 2.5, 2.5, 2.5, 2.5, 2.5, 2.5, 2.5, 2.5, 2.5, 2.5, 2.5, 2.5, 2.5, 2.5, 2.5, 2.5, 2.5, 2.5, 2.5, 2.5, 2.5, 2.5, 2.5, 2.5, 2.5, 2.5, 2.5, 2.5, 2.5, 2.5, 2.5, 2.5, 2.5, 2.5, 2.5, 2.5, 2.5, 2.5, 2.5, 2.5, 2.5, 2.5, 2.5, 2.5, 2.5, 2.5, 2.5, 2.5, 2.5, 2.5, 2.5, 2.5, 2.5, 2.5, 2.5, 2.5, 2.5, 2.5, 2.5, 2.5, 2.5]])"
      ]
     },
     "execution_count": 11,
     "metadata": {},
     "output_type": "execute_result"
    }
   ],
   "source": [
    "I_typ = parameter_values.evaluate(model.param.I_typ)\n",
    "sols[1].y[inds[\"Current density variable\"], :] * I_typ"
   ]
  },
  {
   "cell_type": "markdown",
   "id": "cc228558",
   "metadata": {},
   "source": [
    "As a sanity check, let's make sure the current density and terminal voltage variables agree with the current and terminal voltage predicted by the model (i.e. the variables that were already included)"
   ]
  },
  {
   "cell_type": "code",
   "execution_count": 12,
   "id": "d5f21087",
   "metadata": {},
   "outputs": [
    {
     "data": {
      "image/png": "[encoded data removed]",
      "text/plain": [
       "<Figure size 800x300 with 2 Axes>"
      ]
     },
     "metadata": {},
     "output_type": "display_data"
    }
   ],
   "source": [
    "fig, ax = plt.subplots(1, 2, figsize=(8, 3))\n",
    "\n",
    "soln = sols[-1]\n",
    "\n",
    "ax[0].plot(soln[\"Time [s]\"].entries, soln[\"Current [A]\"].entries, label=\"Current [A]\")\n",
    "ax[0].plot(soln[\"Time [s]\"].entries, soln[\"Current density variable\"].entries * I_typ, \"x\", label=\"Current variable\")\n",
    "ax[0].set_xlabel(\"Time [s]\")\n",
    "ax[0].set_ylabel(\"Current [A]\")\n",
    "ax[0].legend()\n",
    "\n",
    "ax[1].plot(soln[\"Time [s]\"].entries, soln[\"Terminal voltage [V]\"].entries, label=\"Terminal voltage [V]\")\n",
    "ax[1].plot(soln[\"Time [s]\"].entries, soln[\"Terminal voltage variable\"].entries, \"x\", label=\"Terminal voltage variable\")\n",
    "ax[1].set_xlabel(\"Time [s]\")\n",
    "ax[1].set_ylabel(\"Voltage [V]\")\n",
    "ax[1].legend()\n",
    "\n",
    "plt.tight_layout();"
   ]
  },
  {
   "cell_type": "markdown",
   "id": "cde2ed9b",
   "metadata": {},
   "source": [
    "We can get the Jacobian, $J$, out of the model. First let's look at the original formulation (for now we will do this at the initial state)"
   ]
  },
  {
   "cell_type": "code",
   "execution_count": 13,
   "id": "7d9caedb",
   "metadata": {},
   "outputs": [
    {
     "data": {
      "text/plain": [
       "<matplotlib.lines.Line2D at 0x7f29f0106af0>"
      ]
     },
     "execution_count": 13,
     "metadata": {},
     "output_type": "execute_result"
    },
    {
     "data": {
      "image/png": "[encoded data removed]",
      "text/plain": [
       "<Figure size 640x480 with 1 Axes>"
      ]
     },
     "metadata": {},
     "output_type": "display_data"
    }
   ],
   "source": [
    "model = sols[0].all_models[0]\n",
    "y0 = model.concatenated_initial_conditions.entries  # vector of initial conditions\n",
    "J = model.jac_rhs_algebraic_eval(0, y0, []).sparse()  #  call the Jacobian and return a (sparse) matrix\n",
    "plt.spy(J)"
   ]
  },
  {
   "cell_type": "markdown",
   "id": "ff0111f1",
   "metadata": {},
   "source": [
    "We see it is tridiagonal, except for a row of zeros at the start. This is because the model solves 2 diffusion equations, plus a single ODE of the form $dQ/dt = I$, where $Q$ is the discharge capacity."
   ]
  },
  {
   "cell_type": "markdown",
   "id": "62736d09",
   "metadata": {},
   "source": [
    "Let's look at the reformulated model"
   ]
  },
  {
   "cell_type": "code",
   "execution_count": 14,
   "id": "7bae3b3c",
   "metadata": {},
   "outputs": [
    {
     "data": {
      "text/plain": [
       "<matplotlib.lines.Line2D at 0x7f29f00771f0>"
      ]
     },
     "execution_count": 14,
     "metadata": {},
     "output_type": "execute_result"
    },
    {
     "data": {
      "image/png": "[encoded data removed]",
      "text/plain": [
       "<Figure size 640x480 with 1 Axes>"
      ]
     },
     "metadata": {},
     "output_type": "display_data"
    }
   ],
   "source": [
    "model = sols[1].all_models[0]\n",
    "y0 = model.concatenated_initial_conditions.entries  # vector of initial conditions\n",
    "J = model.jac_rhs_algebraic_eval(0, y0, []).sparse()  #  call the Jacobian and return a (sparse) matrix\n",
    "plt.spy(J)"
   ]
  },
  {
   "cell_type": "markdown",
   "id": "a11d55f4",
   "metadata": {},
   "source": [
    "Now we see that the current is a state so the $dQ/dt = I$ equation has an entry in the Jacobian, and we see how the boundary condition in the diffusion equations now depend on the current variable."
   ]
  },
  {
   "cell_type": "markdown",
   "id": "dedf551a",
   "metadata": {},
   "source": [
    "We want to force the linearised system using an applied current. To do that we construct the following vector which has a single entry in the row corresponding to current"
   ]
  },
  {
   "cell_type": "code",
   "execution_count": 15,
   "id": "af96f798",
   "metadata": {},
   "outputs": [],
   "source": [
    "from scipy.sparse import csc_matrix\n",
    "\n",
    "row = inds[\"Current density variable\"]\n",
    "col = np.array([0])\n",
    "data = np.array([-1])  \n",
    "b = csc_matrix((data, (row, col)), shape=y0.shape)"
   ]
  },
  {
   "cell_type": "markdown",
   "id": "0c4a90fa",
   "metadata": {},
   "source": [
    "To do this we also need the mass matrix, $M$,"
   ]
  },
  {
   "cell_type": "code",
   "execution_count": 16,
   "id": "fe04a0ef",
   "metadata": {},
   "outputs": [],
   "source": [
    "M = model.mass_matrix.entries"
   ]
  },
  {
   "cell_type": "markdown",
   "id": "d3147158",
   "metadata": {},
   "source": [
    "Then we will solve a system of the form \n",
    "\n",
    "$$ A \\boldsymbol{y} = \\boldsymbol{b},$$\n",
    "\n",
    "with $A = i \\omega M - J$. "
   ]
  },
  {
   "cell_type": "markdown",
   "id": "3184f072",
   "metadata": {},
   "source": [
    "We can take a look at what the matrices look like "
   ]
  },
  {
   "cell_type": "code",
   "execution_count": 17,
   "id": "4b03abfe",
   "metadata": {},
   "outputs": [],
   "source": [
    "omega = 1\n",
    "A = 1j * omega * M - J"
   ]
  },
  {
   "cell_type": "code",
   "execution_count": 18,
   "id": "d9547582",
   "metadata": {},
   "outputs": [
    {
     "data": {
      "text/plain": [
       "<matplotlib.lines.Line2D at 0x7f29effe1790>"
      ]
     },
     "execution_count": 18,
     "metadata": {},
     "output_type": "execute_result"
    },
    {
     "data": {
      "image/png": "[encoded data removed]",
      "text/plain": [
       "<Figure size 640x480 with 1 Axes>"
      ]
     },
     "metadata": {},
     "output_type": "display_data"
    }
   ],
   "source": [
    "plt.spy(A)"
   ]
  },
  {
   "cell_type": "code",
   "execution_count": 19,
   "id": "829db35d",
   "metadata": {},
   "outputs": [
    {
     "data": {
      "text/plain": [
       "matrix([[ 0.00000000e+00+1.j,  0.00000000e+00+0.j,  0.00000000e+00+0.j,\n",
       "          0.00000000e+00+0.j,  0.00000000e+00+0.j,  0.00000000e+00+0.j,\n",
       "          0.00000000e+00+0.j,  0.00000000e+00+0.j,  0.00000000e+00+0.j,\n",
       "          0.00000000e+00+0.j,  0.00000000e+00+0.j,  0.00000000e+00+0.j,\n",
       "         -1.57591844e+01+0.j],\n",
       "        [ 0.00000000e+00+0.j,  8.17798303e+02+1.j, -8.17798303e+02+0.j,\n",
       "          0.00000000e+00+0.j,  0.00000000e+00+0.j,  0.00000000e+00+0.j,\n",
       "          0.00000000e+00+0.j,  0.00000000e+00+0.j,  0.00000000e+00+0.j,\n",
       "          0.00000000e+00+0.j,  0.00000000e+00+0.j,  0.00000000e+00+0.j,\n",
       "          0.00000000e+00+0.j],\n",
       "        [ 0.00000000e+00+0.j, -1.16828329e+02+0.j,  5.84141645e+02+1.j,\n",
       "         -4.67313316e+02+0.j,  0.00000000e+00+0.j,  0.00000000e+00+0.j,\n",
       "          0.00000000e+00+0.j,  0.00000000e+00+0.j,  0.00000000e+00+0.j,\n",
       "          0.00000000e+00+0.j,  0.00000000e+00+0.j,  0.00000000e+00+0.j,\n",
       "          0.00000000e+00+0.j],\n",
       "        [ 0.00000000e+00+0.j,  0.00000000e+00+0.j, -1.72168064e+02+0.j,\n",
       "          5.59546208e+02+1.j, -3.87378144e+02+0.j,  0.00000000e+00+0.j,\n",
       "          0.00000000e+00+0.j,  0.00000000e+00+0.j,  0.00000000e+00+0.j,\n",
       "          0.00000000e+00+0.j,  0.00000000e+00+0.j,  0.00000000e+00+0.j,\n",
       "          0.00000000e+00+0.j],\n",
       "        [ 0.00000000e+00+0.j,  0.00000000e+00+0.j,  0.00000000e+00+0.j,\n",
       "         -1.98923912e+02+0.j,  5.52566421e+02+1.j, -3.53642510e+02+0.j,\n",
       "          0.00000000e+00+0.j,  0.00000000e+00+0.j,  0.00000000e+00+0.j,\n",
       "          0.00000000e+00+0.j,  0.00000000e+00+0.j,  0.00000000e+00+0.j,\n",
       "          0.00000000e+00+0.j],\n",
       "        [ 0.00000000e+00+0.j,  0.00000000e+00+0.j,  0.00000000e+00+0.j,\n",
       "          0.00000000e+00+0.j, -2.14504473e+02+0.j,  2.14504473e+02+1.j,\n",
       "          0.00000000e+00+0.j,  0.00000000e+00+0.j,  0.00000000e+00+0.j,\n",
       "          0.00000000e+00+0.j,  0.00000000e+00+0.j,  0.00000000e+00+0.j,\n",
       "          5.54144539e+00+0.j],\n",
       "        [ 0.00000000e+00+0.j,  0.00000000e+00+0.j,  0.00000000e+00+0.j,\n",
       "          0.00000000e+00+0.j,  0.00000000e+00+0.j,  0.00000000e+00+0.j,\n",
       "          1.24924173e+02+1.j, -1.24924173e+02+0.j,  0.00000000e+00+0.j,\n",
       "          0.00000000e+00+0.j,  0.00000000e+00+0.j,  0.00000000e+00+0.j,\n",
       "          0.00000000e+00+0.j],\n",
       "        [ 0.00000000e+00+0.j,  0.00000000e+00+0.j,  0.00000000e+00+0.j,\n",
       "          0.00000000e+00+0.j,  0.00000000e+00+0.j,  0.00000000e+00+0.j,\n",
       "         -1.78463104e+01+0.j,  8.92315521e+01+1.j, -7.13852417e+01+0.j,\n",
       "          0.00000000e+00+0.j,  0.00000000e+00+0.j,  0.00000000e+00+0.j,\n",
       "          0.00000000e+00+0.j],\n",
       "        [ 0.00000000e+00+0.j,  0.00000000e+00+0.j,  0.00000000e+00+0.j,\n",
       "          0.00000000e+00+0.j,  0.00000000e+00+0.j,  0.00000000e+00+0.j,\n",
       "          0.00000000e+00+0.j, -2.62998259e+01+0.j,  8.54744341e+01+1.j,\n",
       "         -5.91746082e+01+0.j,  0.00000000e+00+0.j,  0.00000000e+00+0.j,\n",
       "          0.00000000e+00+0.j],\n",
       "        [ 0.00000000e+00+0.j,  0.00000000e+00+0.j,  0.00000000e+00+0.j,\n",
       "          0.00000000e+00+0.j,  0.00000000e+00+0.j,  0.00000000e+00+0.j,\n",
       "          0.00000000e+00+0.j,  0.00000000e+00+0.j, -3.03869610e+01+0.j,\n",
       "          8.44082249e+01+1.j, -5.40212640e+01+0.j,  0.00000000e+00+0.j,\n",
       "          0.00000000e+00+0.j],\n",
       "        [ 0.00000000e+00+0.j,  0.00000000e+00+0.j,  0.00000000e+00+0.j,\n",
       "          0.00000000e+00+0.j,  0.00000000e+00+0.j,  0.00000000e+00+0.j,\n",
       "          0.00000000e+00+0.j,  0.00000000e+00+0.j,  0.00000000e+00+0.j,\n",
       "         -3.27669962e+01+0.j,  3.27669962e+01+1.j,  0.00000000e+00+0.j,\n",
       "         -3.69814850e+00+0.j],\n",
       "        [ 0.00000000e+00+0.j,  0.00000000e+00+0.j,  0.00000000e+00+0.j,\n",
       "          0.00000000e+00+0.j,  1.01872821e-01+0.j, -3.05618464e-01+0.j,\n",
       "          0.00000000e+00+0.j,  0.00000000e+00+0.j,  0.00000000e+00+0.j,\n",
       "          1.50310216e+00+0.j, -4.50930647e+00+0.j, -1.00000000e+00+0.j,\n",
       "         -1.04427999e-01+0.j],\n",
       "        [ 0.00000000e+00+0.j,  0.00000000e+00+0.j,  0.00000000e+00+0.j,\n",
       "          0.00000000e+00+0.j,  0.00000000e+00+0.j,  0.00000000e+00+0.j,\n",
       "          0.00000000e+00+0.j,  0.00000000e+00+0.j,  0.00000000e+00+0.j,\n",
       "          0.00000000e+00+0.j,  0.00000000e+00+0.j,  0.00000000e+00+0.j,\n",
       "         -5.00000000e+00+0.j]])"
      ]
     },
     "execution_count": 19,
     "metadata": {},
     "output_type": "execute_result"
    }
   ],
   "source": [
    "A.todense()"
   ]
  },
  {
   "cell_type": "code",
   "execution_count": 20,
   "id": "d97da744",
   "metadata": {},
   "outputs": [
    {
     "data": {
      "text/plain": [
       "matrix([[1., 0., 0., 0., 0., 0., 0., 0., 0., 0., 0., 0., 0.],\n",
       "        [0., 1., 0., 0., 0., 0., 0., 0., 0., 0., 0., 0., 0.],\n",
       "        [0., 0., 1., 0., 0., 0., 0., 0., 0., 0., 0., 0., 0.],\n",
       "        [0., 0., 0., 1., 0., 0., 0., 0., 0., 0., 0., 0., 0.],\n",
       "        [0., 0., 0., 0., 1., 0., 0., 0., 0., 0., 0., 0., 0.],\n",
       "        [0., 0., 0., 0., 0., 1., 0., 0., 0., 0., 0., 0., 0.],\n",
       "        [0., 0., 0., 0., 0., 0., 1., 0., 0., 0., 0., 0., 0.],\n",
       "        [0., 0., 0., 0., 0., 0., 0., 1., 0., 0., 0., 0., 0.],\n",
       "        [0., 0., 0., 0., 0., 0., 0., 0., 1., 0., 0., 0., 0.],\n",
       "        [0., 0., 0., 0., 0., 0., 0., 0., 0., 1., 0., 0., 0.],\n",
       "        [0., 0., 0., 0., 0., 0., 0., 0., 0., 0., 1., 0., 0.],\n",
       "        [0., 0., 0., 0., 0., 0., 0., 0., 0., 0., 0., 0., 0.],\n",
       "        [0., 0., 0., 0., 0., 0., 0., 0., 0., 0., 0., 0., 0.]])"
      ]
     },
     "execution_count": 20,
     "metadata": {},
     "output_type": "execute_result"
    }
   ],
   "source": [
    "M.todense()"
   ]
  },
  {
   "cell_type": "code",
   "execution_count": 21,
   "id": "c864b2bc",
   "metadata": {},
   "outputs": [
    {
     "data": {
      "text/plain": [
       "matrix([[ 0.00000000e+00,  0.00000000e+00,  0.00000000e+00,\n",
       "          0.00000000e+00,  0.00000000e+00,  0.00000000e+00,\n",
       "          0.00000000e+00,  0.00000000e+00,  0.00000000e+00,\n",
       "          0.00000000e+00,  0.00000000e+00,  0.00000000e+00,\n",
       "          1.57591844e+01],\n",
       "        [ 0.00000000e+00, -8.17798303e+02,  8.17798303e+02,\n",
       "          0.00000000e+00,  0.00000000e+00,  0.00000000e+00,\n",
       "          0.00000000e+00,  0.00000000e+00,  0.00000000e+00,\n",
       "          0.00000000e+00,  0.00000000e+00,  0.00000000e+00,\n",
       "          0.00000000e+00],\n",
       "        [ 0.00000000e+00,  1.16828329e+02, -5.84141645e+02,\n",
       "          4.67313316e+02,  0.00000000e+00,  0.00000000e+00,\n",
       "          0.00000000e+00,  0.00000000e+00,  0.00000000e+00,\n",
       "          0.00000000e+00,  0.00000000e+00,  0.00000000e+00,\n",
       "          0.00000000e+00],\n",
       "        [ 0.00000000e+00,  0.00000000e+00,  1.72168064e+02,\n",
       "         -5.59546208e+02,  3.87378144e+02,  0.00000000e+00,\n",
       "          0.00000000e+00,  0.00000000e+00,  0.00000000e+00,\n",
       "          0.00000000e+00,  0.00000000e+00,  0.00000000e+00,\n",
       "          0.00000000e+00],\n",
       "        [ 0.00000000e+00,  0.00000000e+00,  0.00000000e+00,\n",
       "          1.98923912e+02, -5.52566421e+02,  3.53642510e+02,\n",
       "          0.00000000e+00,  0.00000000e+00,  0.00000000e+00,\n",
       "          0.00000000e+00,  0.00000000e+00,  0.00000000e+00,\n",
       "          0.00000000e+00],\n",
       "        [ 0.00000000e+00,  0.00000000e+00,  0.00000000e+00,\n",
       "          0.00000000e+00,  2.14504473e+02, -2.14504473e+02,\n",
       "          0.00000000e+00,  0.00000000e+00,  0.00000000e+00,\n",
       "          0.00000000e+00,  0.00000000e+00,  0.00000000e+00,\n",
       "         -5.54144539e+00],\n",
       "        [ 0.00000000e+00,  0.00000000e+00,  0.00000000e+00,\n",
       "          0.00000000e+00,  0.00000000e+00,  0.00000000e+00,\n",
       "         -1.24924173e+02,  1.24924173e+02,  0.00000000e+00,\n",
       "          0.00000000e+00,  0.00000000e+00,  0.00000000e+00,\n",
       "          0.00000000e+00],\n",
       "        [ 0.00000000e+00,  0.00000000e+00,  0.00000000e+00,\n",
       "          0.00000000e+00,  0.00000000e+00,  0.00000000e+00,\n",
       "          1.78463104e+01, -8.92315521e+01,  7.13852417e+01,\n",
       "          0.00000000e+00,  0.00000000e+00,  0.00000000e+00,\n",
       "          0.00000000e+00],\n",
       "        [ 0.00000000e+00,  0.00000000e+00,  0.00000000e+00,\n",
       "          0.00000000e+00,  0.00000000e+00,  0.00000000e+00,\n",
       "          0.00000000e+00,  2.62998259e+01, -8.54744341e+01,\n",
       "          5.91746082e+01,  0.00000000e+00,  0.00000000e+00,\n",
       "          0.00000000e+00],\n",
       "        [ 0.00000000e+00,  0.00000000e+00,  0.00000000e+00,\n",
       "          0.00000000e+00,  0.00000000e+00,  0.00000000e+00,\n",
       "          0.00000000e+00,  0.00000000e+00,  3.03869610e+01,\n",
       "         -8.44082249e+01,  5.40212640e+01,  0.00000000e+00,\n",
       "          0.00000000e+00],\n",
       "        [ 0.00000000e+00,  0.00000000e+00,  0.00000000e+00,\n",
       "          0.00000000e+00,  0.00000000e+00,  0.00000000e+00,\n",
       "          0.00000000e+00,  0.00000000e+00,  0.00000000e+00,\n",
       "          3.27669962e+01, -3.27669962e+01,  0.00000000e+00,\n",
       "          3.69814850e+00],\n",
       "        [ 0.00000000e+00,  0.00000000e+00,  0.00000000e+00,\n",
       "          0.00000000e+00, -1.01872821e-01,  3.05618464e-01,\n",
       "          0.00000000e+00,  0.00000000e+00,  0.00000000e+00,\n",
       "         -1.50310216e+00,  4.50930647e+00,  1.00000000e+00,\n",
       "          1.04427999e-01],\n",
       "        [ 0.00000000e+00,  0.00000000e+00,  0.00000000e+00,\n",
       "          0.00000000e+00,  0.00000000e+00,  0.00000000e+00,\n",
       "          0.00000000e+00,  0.00000000e+00,  0.00000000e+00,\n",
       "          0.00000000e+00,  0.00000000e+00,  0.00000000e+00,\n",
       "          5.00000000e+00]])"
      ]
     },
     "execution_count": 21,
     "metadata": {},
     "output_type": "execute_result"
    }
   ],
   "source": [
    "J.todense()"
   ]
  },
  {
   "cell_type": "code",
   "execution_count": 22,
   "id": "46b100cd",
   "metadata": {},
   "outputs": [
    {
     "data": {
      "text/plain": [
       "matrix([[ 0],\n",
       "        [ 0],\n",
       "        [ 0],\n",
       "        [ 0],\n",
       "        [ 0],\n",
       "        [ 0],\n",
       "        [ 0],\n",
       "        [ 0],\n",
       "        [ 0],\n",
       "        [ 0],\n",
       "        [ 0],\n",
       "        [ 0],\n",
       "        [-1]])"
      ]
     },
     "execution_count": 22,
     "metadata": {},
     "output_type": "execute_result"
    }
   ],
   "source": [
    "b.todense()"
   ]
  },
  {
   "cell_type": "code",
   "execution_count": null,
   "id": "bd53eb6b",
   "metadata": {},
   "outputs": [],
   "source": []
  },
  {
   "cell_type": "code",
   "execution_count": null,
   "id": "3f3b0b88",
   "metadata": {},
   "outputs": [],
   "source": []
  }
 ],
 "metadata": {
  "kernelspec": {
   "display_name": "Python 3",
   "language": "python",
   "name": "python3"
  },
  "language_info": {
   "codemirror_mode": {
    "name": "ipython",
    "version": 3
   },
   "file_extension": ".py",
   "mimetype": "text/x-python",
   "name": "python",
   "nbconvert_exporter": "python",
   "pygments_lexer": "ipython3",
   "version": "3.8.13"
  },
  "vscode": {
   "interpreter": {
    "hash": "0aa172841ce802c681a9f425881ff14d7431515039636bfa8960bedf2db368d0"
   }
  }
 },
 "nbformat": 4,
 "nbformat_minor": 5
}
